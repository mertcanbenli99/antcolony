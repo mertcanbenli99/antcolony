{
  "cells": [
    {
      "cell_type": "markdown",
      "metadata": {
        "id": "view-in-github",
        "colab_type": "text"
      },
      "source": [
        "<a href=\"https://colab.research.google.com/github/mertcanbenli99/antcolony/blob/main/Thesis.ipynb\" target=\"_parent\"><img src=\"https://colab.research.google.com/assets/colab-badge.svg\" alt=\"Open In Colab\"/></a>"
      ]
    },
    {
      "cell_type": "code",
      "execution_count": null,
      "metadata": {
        "colab": {
          "background_save": true,
          "base_uri": "https://localhost:8080/",
          "height": 73,
          "resources": {
            "http://localhost:8080/nbextensions/google.colab/files.js": {
              "data": "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",
              "headers": [
                [
                  "content-type",
                  "application/javascript"
                ]
              ],
              "ok": true,
              "status": 200,
              "status_text": ""
            }
          }
        },
        "id": "MPHdHj-kFQVl",
        "outputId": "672cbe95-ea35-46ea-fc08-f779af6cb58e"
      },
      "outputs": [
        {
          "data": {
            "text/html": [
              "\n",
              "     <input type=\"file\" id=\"files-82419429-6a60-44d3-b9a8-bef7080a4843\" name=\"files[]\" multiple disabled\n",
              "        style=\"border:none\" />\n",
              "     <output id=\"result-82419429-6a60-44d3-b9a8-bef7080a4843\">\n",
              "      Upload widget is only available when the cell has been executed in the\n",
              "      current browser session. Please rerun this cell to enable.\n",
              "      </output>\n",
              "      <script>// Copyright 2017 Google LLC\n",
              "//\n",
              "// Licensed under the Apache License, Version 2.0 (the \"License\");\n",
              "// you may not use this file except in compliance with the License.\n",
              "// You may obtain a copy of the License at\n",
              "//\n",
              "//      http://www.apache.org/licenses/LICENSE-2.0\n",
              "//\n",
              "// Unless required by applicable law or agreed to in writing, software\n",
              "// distributed under the License is distributed on an \"AS IS\" BASIS,\n",
              "// WITHOUT WARRANTIES OR CONDITIONS OF ANY KIND, either express or implied.\n",
              "// See the License for the specific language governing permissions and\n",
              "// limitations under the License.\n",
              "\n",
              "/**\n",
              " * @fileoverview Helpers for google.colab Python module.\n",
              " */\n",
              "(function(scope) {\n",
              "function span(text, styleAttributes = {}) {\n",
              "  const element = document.createElement('span');\n",
              "  element.textContent = text;\n",
              "  for (const key of Object.keys(styleAttributes)) {\n",
              "    element.style[key] = styleAttributes[key];\n",
              "  }\n",
              "  return element;\n",
              "}\n",
              "\n",
              "// Max number of bytes which will be uploaded at a time.\n",
              "const MAX_PAYLOAD_SIZE = 100 * 1024;\n",
              "\n",
              "function _uploadFiles(inputId, outputId) {\n",
              "  const steps = uploadFilesStep(inputId, outputId);\n",
              "  const outputElement = document.getElementById(outputId);\n",
              "  // Cache steps on the outputElement to make it available for the next call\n",
              "  // to uploadFilesContinue from Python.\n",
              "  outputElement.steps = steps;\n",
              "\n",
              "  return _uploadFilesContinue(outputId);\n",
              "}\n",
              "\n",
              "// This is roughly an async generator (not supported in the browser yet),\n",
              "// where there are multiple asynchronous steps and the Python side is going\n",
              "// to poll for completion of each step.\n",
              "// This uses a Promise to block the python side on completion of each step,\n",
              "// then passes the result of the previous step as the input to the next step.\n",
              "function _uploadFilesContinue(outputId) {\n",
              "  const outputElement = document.getElementById(outputId);\n",
              "  const steps = outputElement.steps;\n",
              "\n",
              "  const next = steps.next(outputElement.lastPromiseValue);\n",
              "  return Promise.resolve(next.value.promise).then((value) => {\n",
              "    // Cache the last promise value to make it available to the next\n",
              "    // step of the generator.\n",
              "    outputElement.lastPromiseValue = value;\n",
              "    return next.value.response;\n",
              "  });\n",
              "}\n",
              "\n",
              "/**\n",
              " * Generator function which is called between each async step of the upload\n",
              " * process.\n",
              " * @param {string} inputId Element ID of the input file picker element.\n",
              " * @param {string} outputId Element ID of the output display.\n",
              " * @return {!Iterable<!Object>} Iterable of next steps.\n",
              " */\n",
              "function* uploadFilesStep(inputId, outputId) {\n",
              "  const inputElement = document.getElementById(inputId);\n",
              "  inputElement.disabled = false;\n",
              "\n",
              "  const outputElement = document.getElementById(outputId);\n",
              "  outputElement.innerHTML = '';\n",
              "\n",
              "  const pickedPromise = new Promise((resolve) => {\n",
              "    inputElement.addEventListener('change', (e) => {\n",
              "      resolve(e.target.files);\n",
              "    });\n",
              "  });\n",
              "\n",
              "  const cancel = document.createElement('button');\n",
              "  inputElement.parentElement.appendChild(cancel);\n",
              "  cancel.textContent = 'Cancel upload';\n",
              "  const cancelPromise = new Promise((resolve) => {\n",
              "    cancel.onclick = () => {\n",
              "      resolve(null);\n",
              "    };\n",
              "  });\n",
              "\n",
              "  // Wait for the user to pick the files.\n",
              "  const files = yield {\n",
              "    promise: Promise.race([pickedPromise, cancelPromise]),\n",
              "    response: {\n",
              "      action: 'starting',\n",
              "    }\n",
              "  };\n",
              "\n",
              "  cancel.remove();\n",
              "\n",
              "  // Disable the input element since further picks are not allowed.\n",
              "  inputElement.disabled = true;\n",
              "\n",
              "  if (!files) {\n",
              "    return {\n",
              "      response: {\n",
              "        action: 'complete',\n",
              "      }\n",
              "    };\n",
              "  }\n",
              "\n",
              "  for (const file of files) {\n",
              "    const li = document.createElement('li');\n",
              "    li.append(span(file.name, {fontWeight: 'bold'}));\n",
              "    li.append(span(\n",
              "        `(${file.type || 'n/a'}) - ${file.size} bytes, ` +\n",
              "        `last modified: ${\n",
              "            file.lastModifiedDate ? file.lastModifiedDate.toLocaleDateString() :\n",
              "                                    'n/a'} - `));\n",
              "    const percent = span('0% done');\n",
              "    li.appendChild(percent);\n",
              "\n",
              "    outputElement.appendChild(li);\n",
              "\n",
              "    const fileDataPromise = new Promise((resolve) => {\n",
              "      const reader = new FileReader();\n",
              "      reader.onload = (e) => {\n",
              "        resolve(e.target.result);\n",
              "      };\n",
              "      reader.readAsArrayBuffer(file);\n",
              "    });\n",
              "    // Wait for the data to be ready.\n",
              "    let fileData = yield {\n",
              "      promise: fileDataPromise,\n",
              "      response: {\n",
              "        action: 'continue',\n",
              "      }\n",
              "    };\n",
              "\n",
              "    // Use a chunked sending to avoid message size limits. See b/62115660.\n",
              "    let position = 0;\n",
              "    do {\n",
              "      const length = Math.min(fileData.byteLength - position, MAX_PAYLOAD_SIZE);\n",
              "      const chunk = new Uint8Array(fileData, position, length);\n",
              "      position += length;\n",
              "\n",
              "      const base64 = btoa(String.fromCharCode.apply(null, chunk));\n",
              "      yield {\n",
              "        response: {\n",
              "          action: 'append',\n",
              "          file: file.name,\n",
              "          data: base64,\n",
              "        },\n",
              "      };\n",
              "\n",
              "      let percentDone = fileData.byteLength === 0 ?\n",
              "          100 :\n",
              "          Math.round((position / fileData.byteLength) * 100);\n",
              "      percent.textContent = `${percentDone}% done`;\n",
              "\n",
              "    } while (position < fileData.byteLength);\n",
              "  }\n",
              "\n",
              "  // All done.\n",
              "  yield {\n",
              "    response: {\n",
              "      action: 'complete',\n",
              "    }\n",
              "  };\n",
              "}\n",
              "\n",
              "scope.google = scope.google || {};\n",
              "scope.google.colab = scope.google.colab || {};\n",
              "scope.google.colab._files = {\n",
              "  _uploadFiles,\n",
              "  _uploadFilesContinue,\n",
              "};\n",
              "})(self);\n",
              "</script> "
            ],
            "text/plain": [
              "<IPython.core.display.HTML object>"
            ]
          },
          "metadata": {},
          "output_type": "display_data"
        },
        {
          "ename": "TypeError",
          "evalue": "ignored",
          "output_type": "error",
          "traceback": [
            "\u001b[0;31m---------------------------------------------------------------------------\u001b[0m",
            "\u001b[0;31mTypeError\u001b[0m                                 Traceback (most recent call last)",
            "\u001b[0;32m<ipython-input-1-cb6220740720>\u001b[0m in \u001b[0;36m<module>\u001b[0;34m\u001b[0m\n\u001b[1;32m      1\u001b[0m \u001b[0;32mfrom\u001b[0m \u001b[0mgoogle\u001b[0m\u001b[0;34m.\u001b[0m\u001b[0mcolab\u001b[0m \u001b[0;32mimport\u001b[0m \u001b[0mfiles\u001b[0m\u001b[0;34m\u001b[0m\u001b[0;34m\u001b[0m\u001b[0m\n\u001b[0;32m----> 2\u001b[0;31m \u001b[0mdata\u001b[0m \u001b[0;34m=\u001b[0m \u001b[0mfiles\u001b[0m\u001b[0;34m.\u001b[0m\u001b[0mupload\u001b[0m\u001b[0;34m(\u001b[0m\u001b[0;34m)\u001b[0m\u001b[0;34m\u001b[0m\u001b[0;34m\u001b[0m\u001b[0m\n\u001b[0m",
            "\u001b[0;32m/usr/local/lib/python3.7/dist-packages/google/colab/files.py\u001b[0m in \u001b[0;36mupload\u001b[0;34m()\u001b[0m\n\u001b[1;32m     40\u001b[0m   \"\"\"\n\u001b[1;32m     41\u001b[0m \u001b[0;34m\u001b[0m\u001b[0m\n\u001b[0;32m---> 42\u001b[0;31m   \u001b[0muploaded_files\u001b[0m \u001b[0;34m=\u001b[0m \u001b[0m_upload_files\u001b[0m\u001b[0;34m(\u001b[0m\u001b[0mmultiple\u001b[0m\u001b[0;34m=\u001b[0m\u001b[0;32mTrue\u001b[0m\u001b[0;34m)\u001b[0m\u001b[0;34m\u001b[0m\u001b[0;34m\u001b[0m\u001b[0m\n\u001b[0m\u001b[1;32m     43\u001b[0m   \u001b[0;31m# Mapping from original filename to filename as saved locally.\u001b[0m\u001b[0;34m\u001b[0m\u001b[0;34m\u001b[0m\u001b[0;34m\u001b[0m\u001b[0m\n\u001b[1;32m     44\u001b[0m   \u001b[0mlocal_filenames\u001b[0m \u001b[0;34m=\u001b[0m \u001b[0mdict\u001b[0m\u001b[0;34m(\u001b[0m\u001b[0;34m)\u001b[0m\u001b[0;34m\u001b[0m\u001b[0;34m\u001b[0m\u001b[0m\n",
            "\u001b[0;32m/usr/local/lib/python3.7/dist-packages/google/colab/files.py\u001b[0m in \u001b[0;36m_upload_files\u001b[0;34m(multiple)\u001b[0m\n\u001b[1;32m    122\u001b[0m   \u001b[0mfiles\u001b[0m \u001b[0;34m=\u001b[0m \u001b[0m_collections\u001b[0m\u001b[0;34m.\u001b[0m\u001b[0mdefaultdict\u001b[0m\u001b[0;34m(\u001b[0m\u001b[0mbytes\u001b[0m\u001b[0;34m)\u001b[0m\u001b[0;34m\u001b[0m\u001b[0;34m\u001b[0m\u001b[0m\n\u001b[1;32m    123\u001b[0m \u001b[0;34m\u001b[0m\u001b[0m\n\u001b[0;32m--> 124\u001b[0;31m   \u001b[0;32mwhile\u001b[0m \u001b[0mresult\u001b[0m\u001b[0;34m[\u001b[0m\u001b[0;34m'action'\u001b[0m\u001b[0;34m]\u001b[0m \u001b[0;34m!=\u001b[0m \u001b[0;34m'complete'\u001b[0m\u001b[0;34m:\u001b[0m\u001b[0;34m\u001b[0m\u001b[0;34m\u001b[0m\u001b[0m\n\u001b[0m\u001b[1;32m    125\u001b[0m     result = _output.eval_js(\n\u001b[1;32m    126\u001b[0m         'google.colab._files._uploadFilesContinue(\"{output_id}\")'.format(\n",
            "\u001b[0;31mTypeError\u001b[0m: 'NoneType' object is not subscriptable"
          ]
        }
      ],
      "source": [
        "from google.colab import files\n",
        "data = files.upload()"
      ]
    },
    {
      "cell_type": "code",
      "execution_count": null,
      "metadata": {
        "colab": {
          "base_uri": "https://localhost:8080/",
          "height": 363
        },
        "id": "ba7LGTgSExs0",
        "outputId": "75d328b5-0167-439c-b75d-62d51630f171"
      },
      "outputs": [
        {
          "data": {
            "text/html": [
              "\n",
              "  <div id=\"df-fae55986-6bd4-43c8-8f58-d929e68f84b5\">\n",
              "    <div class=\"colab-df-container\">\n",
              "      <div>\n",
              "<style scoped>\n",
              "    .dataframe tbody tr th:only-of-type {\n",
              "        vertical-align: middle;\n",
              "    }\n",
              "\n",
              "    .dataframe tbody tr th {\n",
              "        vertical-align: top;\n",
              "    }\n",
              "\n",
              "    .dataframe thead th {\n",
              "        text-align: right;\n",
              "    }\n",
              "</style>\n",
              "<table border=\"1\" class=\"dataframe\">\n",
              "  <thead>\n",
              "    <tr style=\"text-align: right;\">\n",
              "      <th></th>\n",
              "      <th>class</th>\n",
              "      <th>document</th>\n",
              "    </tr>\n",
              "  </thead>\n",
              "  <tbody>\n",
              "    <tr>\n",
              "      <th>0</th>\n",
              "      <td>0</td>\n",
              "      <td>ASIAN EXPORTERS FEAR DAMAGE FROM U.S.-JAPAN RI...</td>\n",
              "    </tr>\n",
              "    <tr>\n",
              "      <th>1</th>\n",
              "      <td>1</td>\n",
              "      <td>CHINA DAILY SAYS VERMIN EAT 7-12 PCT GRAIN STO...</td>\n",
              "    </tr>\n",
              "    <tr>\n",
              "      <th>2</th>\n",
              "      <td>2</td>\n",
              "      <td>JAPAN TO REVISE LONG-TERM ENERGY DEMAND DOWNWA...</td>\n",
              "    </tr>\n",
              "    <tr>\n",
              "      <th>3</th>\n",
              "      <td>3</td>\n",
              "      <td>THAI TRADE DEFICIT WIDENS IN FIRST QUARTER\\n  ...</td>\n",
              "    </tr>\n",
              "    <tr>\n",
              "      <th>4</th>\n",
              "      <td>1</td>\n",
              "      <td>SRI LANKA GETS USDA APPROVAL FOR WHEAT PRICE\\n...</td>\n",
              "    </tr>\n",
              "    <tr>\n",
              "      <th>5</th>\n",
              "      <td>8</td>\n",
              "      <td>SUMITOMO BANK AIMS AT QUICK RECOVERY FROM MERG...</td>\n",
              "    </tr>\n",
              "    <tr>\n",
              "      <th>6</th>\n",
              "      <td>10</td>\n",
              "      <td>BUNDESBANK ALLOCATES 6.1 BILLION MARKS IN TEND...</td>\n",
              "    </tr>\n",
              "    <tr>\n",
              "      <th>7</th>\n",
              "      <td>8</td>\n",
              "      <td>BOND CORP STILL CONSIDERING ATLAS MINING BAIL-...</td>\n",
              "    </tr>\n",
              "    <tr>\n",
              "      <th>8</th>\n",
              "      <td>13</td>\n",
              "      <td>AMATIL PROPOSES TWO-FOR-FIVE BONUS SHARE ISSUE...</td>\n",
              "    </tr>\n",
              "    <tr>\n",
              "      <th>9</th>\n",
              "      <td>13</td>\n",
              "      <td>BOWATER 1986 PRETAX PROFITS RISE 15.6 MLN STG\\...</td>\n",
              "    </tr>\n",
              "  </tbody>\n",
              "</table>\n",
              "</div>\n",
              "      <button class=\"colab-df-convert\" onclick=\"convertToInteractive('df-fae55986-6bd4-43c8-8f58-d929e68f84b5')\"\n",
              "              title=\"Convert this dataframe to an interactive table.\"\n",
              "              style=\"display:none;\">\n",
              "        \n",
              "  <svg xmlns=\"http://www.w3.org/2000/svg\" height=\"24px\"viewBox=\"0 0 24 24\"\n",
              "       width=\"24px\">\n",
              "    <path d=\"M0 0h24v24H0V0z\" fill=\"none\"/>\n",
              "    <path d=\"M18.56 5.44l.94 2.06.94-2.06 2.06-.94-2.06-.94-.94-2.06-.94 2.06-2.06.94zm-11 1L8.5 8.5l.94-2.06 2.06-.94-2.06-.94L8.5 2.5l-.94 2.06-2.06.94zm10 10l.94 2.06.94-2.06 2.06-.94-2.06-.94-.94-2.06-.94 2.06-2.06.94z\"/><path d=\"M17.41 7.96l-1.37-1.37c-.4-.4-.92-.59-1.43-.59-.52 0-1.04.2-1.43.59L10.3 9.45l-7.72 7.72c-.78.78-.78 2.05 0 2.83L4 21.41c.39.39.9.59 1.41.59.51 0 1.02-.2 1.41-.59l7.78-7.78 2.81-2.81c.8-.78.8-2.07 0-2.86zM5.41 20L4 18.59l7.72-7.72 1.47 1.35L5.41 20z\"/>\n",
              "  </svg>\n",
              "      </button>\n",
              "      \n",
              "  <style>\n",
              "    .colab-df-container {\n",
              "      display:flex;\n",
              "      flex-wrap:wrap;\n",
              "      gap: 12px;\n",
              "    }\n",
              "\n",
              "    .colab-df-convert {\n",
              "      background-color: #E8F0FE;\n",
              "      border: none;\n",
              "      border-radius: 50%;\n",
              "      cursor: pointer;\n",
              "      display: none;\n",
              "      fill: #1967D2;\n",
              "      height: 32px;\n",
              "      padding: 0 0 0 0;\n",
              "      width: 32px;\n",
              "    }\n",
              "\n",
              "    .colab-df-convert:hover {\n",
              "      background-color: #E2EBFA;\n",
              "      box-shadow: 0px 1px 2px rgba(60, 64, 67, 0.3), 0px 1px 3px 1px rgba(60, 64, 67, 0.15);\n",
              "      fill: #174EA6;\n",
              "    }\n",
              "\n",
              "    [theme=dark] .colab-df-convert {\n",
              "      background-color: #3B4455;\n",
              "      fill: #D2E3FC;\n",
              "    }\n",
              "\n",
              "    [theme=dark] .colab-df-convert:hover {\n",
              "      background-color: #434B5C;\n",
              "      box-shadow: 0px 1px 3px 1px rgba(0, 0, 0, 0.15);\n",
              "      filter: drop-shadow(0px 1px 2px rgba(0, 0, 0, 0.3));\n",
              "      fill: #FFFFFF;\n",
              "    }\n",
              "  </style>\n",
              "\n",
              "      <script>\n",
              "        const buttonEl =\n",
              "          document.querySelector('#df-fae55986-6bd4-43c8-8f58-d929e68f84b5 button.colab-df-convert');\n",
              "        buttonEl.style.display =\n",
              "          google.colab.kernel.accessAllowed ? 'block' : 'none';\n",
              "\n",
              "        async function convertToInteractive(key) {\n",
              "          const element = document.querySelector('#df-fae55986-6bd4-43c8-8f58-d929e68f84b5');\n",
              "          const dataTable =\n",
              "            await google.colab.kernel.invokeFunction('convertToInteractive',\n",
              "                                                     [key], {});\n",
              "          if (!dataTable) return;\n",
              "\n",
              "          const docLinkHtml = 'Like what you see? Visit the ' +\n",
              "            '<a target=\"_blank\" href=https://colab.research.google.com/notebooks/data_table.ipynb>data table notebook</a>'\n",
              "            + ' to learn more about interactive tables.';\n",
              "          element.innerHTML = '';\n",
              "          dataTable['output_type'] = 'display_data';\n",
              "          await google.colab.output.renderOutput(dataTable, element);\n",
              "          const docLink = document.createElement('div');\n",
              "          docLink.innerHTML = docLinkHtml;\n",
              "          element.appendChild(docLink);\n",
              "        }\n",
              "      </script>\n",
              "    </div>\n",
              "  </div>\n",
              "  "
            ],
            "text/plain": [
              "   class                                           document\n",
              "0      0  ASIAN EXPORTERS FEAR DAMAGE FROM U.S.-JAPAN RI...\n",
              "1      1  CHINA DAILY SAYS VERMIN EAT 7-12 PCT GRAIN STO...\n",
              "2      2  JAPAN TO REVISE LONG-TERM ENERGY DEMAND DOWNWA...\n",
              "3      3  THAI TRADE DEFICIT WIDENS IN FIRST QUARTER\\n  ...\n",
              "4      1  SRI LANKA GETS USDA APPROVAL FOR WHEAT PRICE\\n...\n",
              "5      8  SUMITOMO BANK AIMS AT QUICK RECOVERY FROM MERG...\n",
              "6     10  BUNDESBANK ALLOCATES 6.1 BILLION MARKS IN TEND...\n",
              "7      8  BOND CORP STILL CONSIDERING ATLAS MINING BAIL-...\n",
              "8     13  AMATIL PROPOSES TWO-FOR-FIVE BONUS SHARE ISSUE...\n",
              "9     13  BOWATER 1986 PRETAX PROFITS RISE 15.6 MLN STG\\..."
            ]
          },
          "execution_count": 19,
          "metadata": {},
          "output_type": "execute_result"
        }
      ],
      "source": [
        "import pandas as pd\n",
        "\n",
        "data_path=\"reuters.csv\"\n",
        "dataset = pd.read_csv(data_path)\n",
        "# rename columns\n",
        "dataset.columns.values[0] = \"class\"\n",
        "dataset.columns.values[1] = \"document\"\n",
        "dataset.head(10)\n"
      ]
    },
    {
      "cell_type": "code",
      "execution_count": null,
      "metadata": {
        "colab": {
          "base_uri": "https://localhost:8080/"
        },
        "id": "m268LQokD5b7",
        "outputId": "86d31325-e5e7-48d8-aa93-2dafb034728d"
      },
      "outputs": [
        {
          "name": "stderr",
          "output_type": "stream",
          "text": [
            "[nltk_data] Downloading package averaged_perceptron_tagger to\n",
            "[nltk_data]     /root/nltk_data...\n",
            "[nltk_data]   Package averaged_perceptron_tagger is already up-to-\n",
            "[nltk_data]       date!\n",
            "[nltk_data] Downloading package punkt to /root/nltk_data...\n",
            "[nltk_data]   Package punkt is already up-to-date!\n",
            "[nltk_data] Downloading package stopwords to /root/nltk_data...\n",
            "[nltk_data]   Package stopwords is already up-to-date!\n",
            "[nltk_data] Downloading package wordnet to /root/nltk_data...\n",
            "[nltk_data]   Package wordnet is already up-to-date!\n",
            "[nltk_data] Downloading package omw-1.4 to /root/nltk_data...\n",
            "[nltk_data]   Package omw-1.4 is already up-to-date!\n"
          ]
        }
      ],
      "source": [
        "import re\n",
        "import string\n",
        "import numpy as np\n",
        "import math\n",
        "from numpy import array\n",
        "import nltk\n",
        "from nltk.tokenize import word_tokenize\n",
        "from nltk.corpus import stopwords\n",
        "from sklearn.cluster import KMeans\n",
        "from collections import Counter\n",
        "nltk.download('averaged_perceptron_tagger')\n",
        "nltk.download('punkt')\n",
        "nltk.download('stopwords')\n",
        "nltk.download('wordnet')\n",
        "nltk.download('omw-1.4')\n",
        "#-----------------------------\n",
        "from nltk.stem import WordNetLemmatizer\n",
        "from nltk import word_tokenize, pos_tag\n",
        "#----------\n",
        "def preprocess_text(doc):\n",
        "    doc = re.sub(r'\\d+' , '', doc)\n",
        "    doc = remove_punctuation(doc)\n",
        "    doc = doc.lower()\n",
        "    doc = doc.strip()\n",
        "    doc = re.sub(r'\\b\\w{1,2}\\b', '', doc)\n",
        "    tokens = toknizing(doc)\n",
        "    pos_map = {'J': 'a', 'N': 'n', 'R': 'r', 'V': 'v'}\n",
        "    pos_tags = pos_tag(tokens)\n",
        "    lemmatiser = WordNetLemmatizer()\n",
        "    tokens = [lemmatiser.lemmatize(t.lower(), pos=pos_map.get(p[0], 'v')) for t, p in pos_tags]\n",
        "    return tokens\n",
        "#------------------------------------------------------------------\n",
        "def remove_punctuation(doc):\n",
        "    punctuations = '''!()-[]{};:'\"\\,<>./?@#$%^+&*_~'''\n",
        "    no_punct = \"\"\n",
        "    for char in doc:\n",
        "        if char not in punctuations:\n",
        "            no_punct = no_punct + char\n",
        "    return no_punct\n",
        "#---------------------------------------------------------------\n",
        "def toknizing(doc):\n",
        "  stop_words = set(stopwords.words('english'))\n",
        "  tokens = word_tokenize(doc)\n",
        "  result = [i for i in tokens if not i in stop_words]\n",
        "  return result"
      ]
    },
    {
      "cell_type": "code",
      "execution_count": null,
      "metadata": {
        "colab": {
          "base_uri": "https://localhost:8080/",
          "height": 206
        },
        "id": "Yt3Y5RdXEN_7",
        "outputId": "7126426b-8f95-40b3-cf31-e723e1e06ce0"
      },
      "outputs": [
        {
          "data": {
            "text/html": [
              "\n",
              "  <div id=\"df-aa1b8076-3a6c-49c5-b487-69c0e71be35f\">\n",
              "    <div class=\"colab-df-container\">\n",
              "      <div>\n",
              "<style scoped>\n",
              "    .dataframe tbody tr th:only-of-type {\n",
              "        vertical-align: middle;\n",
              "    }\n",
              "\n",
              "    .dataframe tbody tr th {\n",
              "        vertical-align: top;\n",
              "    }\n",
              "\n",
              "    .dataframe thead th {\n",
              "        text-align: right;\n",
              "    }\n",
              "</style>\n",
              "<table border=\"1\" class=\"dataframe\">\n",
              "  <thead>\n",
              "    <tr style=\"text-align: right;\">\n",
              "      <th></th>\n",
              "      <th>class</th>\n",
              "      <th>document</th>\n",
              "    </tr>\n",
              "  </thead>\n",
              "  <tbody>\n",
              "    <tr>\n",
              "      <th>0</th>\n",
              "      <td>0</td>\n",
              "      <td>asian exporter fear damage usjapan rift mount ...</td>\n",
              "    </tr>\n",
              "    <tr>\n",
              "      <th>1</th>\n",
              "      <td>1</td>\n",
              "      <td>china daily say vermin eat pct grain stock sur...</td>\n",
              "    </tr>\n",
              "    <tr>\n",
              "      <th>2</th>\n",
              "      <td>2</td>\n",
              "      <td>japan revise longterm energy demand downwards ...</td>\n",
              "    </tr>\n",
              "    <tr>\n",
              "      <th>3</th>\n",
              "      <td>3</td>\n",
              "      <td>thai trade deficit widen first quarter thailan...</td>\n",
              "    </tr>\n",
              "    <tr>\n",
              "      <th>4</th>\n",
              "      <td>1</td>\n",
              "      <td>sri lanka get usda approval wheat price food d...</td>\n",
              "    </tr>\n",
              "  </tbody>\n",
              "</table>\n",
              "</div>\n",
              "      <button class=\"colab-df-convert\" onclick=\"convertToInteractive('df-aa1b8076-3a6c-49c5-b487-69c0e71be35f')\"\n",
              "              title=\"Convert this dataframe to an interactive table.\"\n",
              "              style=\"display:none;\">\n",
              "        \n",
              "  <svg xmlns=\"http://www.w3.org/2000/svg\" height=\"24px\"viewBox=\"0 0 24 24\"\n",
              "       width=\"24px\">\n",
              "    <path d=\"M0 0h24v24H0V0z\" fill=\"none\"/>\n",
              "    <path d=\"M18.56 5.44l.94 2.06.94-2.06 2.06-.94-2.06-.94-.94-2.06-.94 2.06-2.06.94zm-11 1L8.5 8.5l.94-2.06 2.06-.94-2.06-.94L8.5 2.5l-.94 2.06-2.06.94zm10 10l.94 2.06.94-2.06 2.06-.94-2.06-.94-.94-2.06-.94 2.06-2.06.94z\"/><path d=\"M17.41 7.96l-1.37-1.37c-.4-.4-.92-.59-1.43-.59-.52 0-1.04.2-1.43.59L10.3 9.45l-7.72 7.72c-.78.78-.78 2.05 0 2.83L4 21.41c.39.39.9.59 1.41.59.51 0 1.02-.2 1.41-.59l7.78-7.78 2.81-2.81c.8-.78.8-2.07 0-2.86zM5.41 20L4 18.59l7.72-7.72 1.47 1.35L5.41 20z\"/>\n",
              "  </svg>\n",
              "      </button>\n",
              "      \n",
              "  <style>\n",
              "    .colab-df-container {\n",
              "      display:flex;\n",
              "      flex-wrap:wrap;\n",
              "      gap: 12px;\n",
              "    }\n",
              "\n",
              "    .colab-df-convert {\n",
              "      background-color: #E8F0FE;\n",
              "      border: none;\n",
              "      border-radius: 50%;\n",
              "      cursor: pointer;\n",
              "      display: none;\n",
              "      fill: #1967D2;\n",
              "      height: 32px;\n",
              "      padding: 0 0 0 0;\n",
              "      width: 32px;\n",
              "    }\n",
              "\n",
              "    .colab-df-convert:hover {\n",
              "      background-color: #E2EBFA;\n",
              "      box-shadow: 0px 1px 2px rgba(60, 64, 67, 0.3), 0px 1px 3px 1px rgba(60, 64, 67, 0.15);\n",
              "      fill: #174EA6;\n",
              "    }\n",
              "\n",
              "    [theme=dark] .colab-df-convert {\n",
              "      background-color: #3B4455;\n",
              "      fill: #D2E3FC;\n",
              "    }\n",
              "\n",
              "    [theme=dark] .colab-df-convert:hover {\n",
              "      background-color: #434B5C;\n",
              "      box-shadow: 0px 1px 3px 1px rgba(0, 0, 0, 0.15);\n",
              "      filter: drop-shadow(0px 1px 2px rgba(0, 0, 0, 0.3));\n",
              "      fill: #FFFFFF;\n",
              "    }\n",
              "  </style>\n",
              "\n",
              "      <script>\n",
              "        const buttonEl =\n",
              "          document.querySelector('#df-aa1b8076-3a6c-49c5-b487-69c0e71be35f button.colab-df-convert');\n",
              "        buttonEl.style.display =\n",
              "          google.colab.kernel.accessAllowed ? 'block' : 'none';\n",
              "\n",
              "        async function convertToInteractive(key) {\n",
              "          const element = document.querySelector('#df-aa1b8076-3a6c-49c5-b487-69c0e71be35f');\n",
              "          const dataTable =\n",
              "            await google.colab.kernel.invokeFunction('convertToInteractive',\n",
              "                                                     [key], {});\n",
              "          if (!dataTable) return;\n",
              "\n",
              "          const docLinkHtml = 'Like what you see? Visit the ' +\n",
              "            '<a target=\"_blank\" href=https://colab.research.google.com/notebooks/data_table.ipynb>data table notebook</a>'\n",
              "            + ' to learn more about interactive tables.';\n",
              "          element.innerHTML = '';\n",
              "          dataTable['output_type'] = 'display_data';\n",
              "          await google.colab.output.renderOutput(dataTable, element);\n",
              "          const docLink = document.createElement('div');\n",
              "          docLink.innerHTML = docLinkHtml;\n",
              "          element.appendChild(docLink);\n",
              "        }\n",
              "      </script>\n",
              "    </div>\n",
              "  </div>\n",
              "  "
            ],
            "text/plain": [
              "   class                                           document\n",
              "0      0  asian exporter fear damage usjapan rift mount ...\n",
              "1      1  china daily say vermin eat pct grain stock sur...\n",
              "2      2  japan revise longterm energy demand downwards ...\n",
              "3      3  thai trade deficit widen first quarter thailan...\n",
              "4      1  sri lanka get usda approval wheat price food d..."
            ]
          },
          "execution_count": 4,
          "metadata": {},
          "output_type": "execute_result"
        }
      ],
      "source": [
        "dataset['document'] = dataset.document.apply(lambda x: ' '.join(preprocess_text(x)))\n",
        "dataset.head()\n",
        "#dataset.to_csv(\"reuters_preprocessed.csv\")\n"
      ]
    },
    {
      "cell_type": "code",
      "execution_count": null,
      "metadata": {
        "colab": {
          "base_uri": "https://localhost:8080/"
        },
        "id": "_odzL7nfEwAG",
        "outputId": "4a0a154e-1ab7-4b8d-8fda-6b195a44821b"
      },
      "outputs": [
        {
          "name": "stdout",
          "output_type": "stream",
          "text": [
            "  (0, 187)\t16\n",
            "  (0, 92)\t12\n",
            "  (0, 146)\t1\n",
            "  (0, 61)\t8\n",
            "  (0, 35)\t1\n",
            "  (0, 56)\t2\n",
            "  (0, 122)\t4\n",
            "  (0, 23)\t1\n",
            "  (0, 114)\t1\n",
            "  (0, 7)\t1\n",
            "  (0, 81)\t6\n",
            "  (0, 138)\t3\n",
            "  (0, 198)\t3\n",
            "  (0, 98)\t1\n",
            "  (0, 71)\t1\n",
            "  (0, 111)\t1\n",
            "  (0, 51)\t6\n",
            "  (0, 93)\t4\n",
            "  (0, 10)\t1\n",
            "  (0, 158)\t1\n",
            "  (0, 197)\t2\n",
            "  (0, 106)\t3\n",
            "  (0, 34)\t1\n",
            "  (0, 58)\t1\n",
            "  (0, 19)\t5\n",
            "  :\t:\n",
            "  (8488, 39)\t1\n",
            "  (8488, 40)\t1\n",
            "  (8488, 137)\t1\n",
            "  (8489, 98)\t8\n",
            "  (8489, 111)\t3\n",
            "  (8489, 199)\t1\n",
            "  (8489, 124)\t2\n",
            "  (8489, 117)\t2\n",
            "  (8489, 165)\t1\n",
            "  (8489, 163)\t2\n",
            "  (8489, 159)\t1\n",
            "  (8489, 82)\t1\n",
            "  (8489, 144)\t1\n",
            "  (8489, 39)\t4\n",
            "  (8489, 153)\t2\n",
            "  (8489, 13)\t2\n",
            "  (8489, 164)\t2\n",
            "  (8490, 111)\t2\n",
            "  (8490, 199)\t1\n",
            "  (8490, 117)\t2\n",
            "  (8490, 33)\t1\n",
            "  (8490, 163)\t2\n",
            "  (8490, 39)\t3\n",
            "  (8490, 40)\t1\n",
            "  (8490, 153)\t1\n"
          ]
        }
      ],
      "source": [
        "from sklearn.feature_extraction.text import CountVectorizer\n",
        "documents = dataset['document'].tolist()\n",
        "vectorizer = CountVectorizer(max_df=0.5)\n",
        "dataset_vector = vectorizer.fit_transform(documents)\n",
        "print(dataset_vector)\n"
      ]
    },
    {
      "cell_type": "code",
      "execution_count": null,
      "metadata": {
        "colab": {
          "base_uri": "https://localhost:8080/"
        },
        "id": "4ovxAkWsIKIa",
        "outputId": "d2fa57cf-fd63-4e2f-e253-0b47685a9a69"
      },
      "outputs": [
        {
          "name": "stdout",
          "output_type": "stream",
          "text": [
            "  (0, 57)\t0.03027574448532687\n",
            "  (0, 193)\t0.03598763513193507\n",
            "  (0, 53)\t0.039368781360232676\n",
            "  (0, 88)\t0.035312115160952055\n",
            "  (0, 64)\t0.037402156707113984\n",
            "  (0, 66)\t0.03350889038413936\n",
            "  (0, 148)\t0.03133349423983215\n",
            "  (0, 83)\t0.02867474498850672\n",
            "  (0, 30)\t0.03729552623543175\n",
            "  (0, 188)\t0.05928831532709809\n",
            "  (0, 110)\t0.12519583799488063\n",
            "  (0, 87)\t0.03366796389057046\n",
            "  (0, 177)\t0.04189804567476441\n",
            "  (0, 75)\t0.036965120059802604\n",
            "  (0, 166)\t0.04280276599119642\n",
            "  (0, 44)\t0.039006202023726656\n",
            "  (0, 124)\t0.02864473309575365\n",
            "  (0, 86)\t0.1029918793188786\n",
            "  (0, 161)\t0.02354546811137014\n",
            "  (0, 155)\t0.02710535897645386\n",
            "  (0, 36)\t0.11804126449339086\n",
            "  (0, 77)\t0.030579760897615167\n",
            "  (0, 25)\t0.03928228739102267\n",
            "  (0, 43)\t0.039368781360232676\n",
            "  (0, 94)\t0.12177291531403393\n",
            "  :\t:\n",
            "  (8488, 129)\t0.2864144582302629\n",
            "  (8488, 148)\t0.2791560956498741\n",
            "  (8488, 10)\t0.5397789688778761\n",
            "  (8489, 164)\t0.2451958902097573\n",
            "  (8489, 13)\t0.2457109123543858\n",
            "  (8489, 153)\t0.19531562267476574\n",
            "  (8489, 39)\t0.2861994468348558\n",
            "  (8489, 144)\t0.08433178620103661\n",
            "  (8489, 82)\t0.07147911202116389\n",
            "  (8489, 159)\t0.13885320859332198\n",
            "  (8489, 163)\t0.15876241456661985\n",
            "  (8489, 165)\t0.11960100190745991\n",
            "  (8489, 117)\t0.14665965765272404\n",
            "  (8489, 124)\t0.19750202722942747\n",
            "  (8489, 199)\t0.07398197086595566\n",
            "  (8489, 111)\t0.17746126807463442\n",
            "  (8489, 98)\t0.7687350885905048\n",
            "  (8490, 153)\t0.26417616571479635\n",
            "  (8490, 40)\t0.2507604773522326\n",
            "  (8490, 39)\t0.580653033222233\n",
            "  (8490, 163)\t0.42947149199295737\n",
            "  (8490, 33)\t0.21413758540753672\n",
            "  (8490, 117)\t0.39673207389310344\n",
            "  (8490, 199)\t0.20013015986884503\n",
            "  (8490, 111)\t0.3200360982961925\n"
          ]
        },
        {
          "data": {
            "text/plain": [
              "array([4.20623817, 3.2992933 , 3.44973412, 3.46485468, 3.65831842,\n",
              "       3.23673737, 2.84124465, 4.0137936 , 4.1918079 , 3.8085552 ,\n",
              "       3.00634343, 4.10408045, 3.7047584 , 3.53662148, 3.03476453,\n",
              "       4.33314702, 4.08845513, 4.04299276, 4.5662409 , 2.90960139,\n",
              "       3.52478702, 3.66675729, 3.23014394, 4.0137936 , 3.58385037,\n",
              "       3.89841153, 3.94656087, 3.50729387, 2.23652714, 3.9601051 ,\n",
              "       3.70124346, 4.06042782, 4.826524  , 2.27876944, 4.03316467,\n",
              "       3.62363286, 3.90484242, 3.86686317, 4.33314702, 2.05969507,\n",
              "       2.66849611, 4.33645281, 3.67869264, 3.90699527, 3.87101255,\n",
              "       4.20044105, 4.00662511, 4.18324865, 3.66337319, 3.45657877,\n",
              "       3.41619644, 1.86208717, 4.19755504, 3.90699527, 3.80660398,\n",
              "       3.73514501, 4.27232828, 3.00459365, 3.9601051 , 3.38374713,\n",
              "       3.06959848, 3.8382898 , 4.05791841, 4.02343223, 3.71182557,\n",
              "       3.79690458, 3.32545412, 3.4634706 , 3.84840111, 3.71005409,\n",
              "       4.13067776, 3.50729387, 4.3769989 , 4.16355743, 3.60433966,\n",
              "       3.66845364, 4.5662409 , 3.03476453, 4.36330006, 3.65496271,\n",
              "       3.49722908, 4.17476203, 2.05765841, 2.84570894, 4.15800186,\n",
              "       3.28646513, 3.40700399, 3.34124073, 3.50440786, 3.55312598,\n",
              "       3.80660398, 4.15800186, 4.08845513, 4.54154829, 4.02828661,\n",
              "       2.90960139, 4.00662511, 3.96238041, 2.76618263, 3.90484242,\n",
              "       3.42947684, 3.84434431, 3.00721947, 4.09884483, 3.07240091,\n",
              "       4.84838279, 2.94027369, 3.09224096, 3.9265824 , 4.10670857,\n",
              "       4.14151797, 1.70285025, 4.25998244, 3.29812028, 4.09363649,\n",
              "       3.46624069, 4.14424649, 2.11093472, 3.04199783, 3.28762455,\n",
              "       2.57267502, 3.34861177, 3.62363286, 3.37358186, 2.84273053,\n",
              "       4.25998244, 4.03561265, 3.56990746, 3.93541248, 3.19041784,\n",
              "       2.29025649, 3.13912454, 3.72073035, 3.38374713, 4.30067663,\n",
              "       3.8606712 , 3.13612903, 3.50440786, 3.75716425, 4.1253014 ,\n",
              "       2.98297586, 4.41925871, 3.60274857, 3.9265824 , 2.42764641,\n",
              "       3.46762861, 3.71182557, 3.40831203, 3.10956574, 4.02828661,\n",
              "       3.28530705, 4.04546494, 3.35977121, 2.81126068, 3.54259165,\n",
              "       2.68996158, 3.5160022 , 3.59168126, 3.32184618, 3.99714637,\n",
              "       3.3710566 , 2.33667463, 3.47599686, 2.28513484, 3.52920855,\n",
              "       3.442936  , 4.24778717, 4.29748684, 4.02343223, 3.78538814,\n",
              "       3.63670494, 3.88778443, 4.30387664, 2.84720148, 3.77400282,\n",
              "       3.68385172, 3.44973412, 4.15800186, 3.62039137, 3.42016207,\n",
              "       4.12798597, 3.61393973, 3.36602514, 3.82430355, 3.4241435 ,\n",
              "       4.33645281, 3.37992303, 3.3761135 , 2.94191437, 3.44022964,\n",
              "       4.13067776, 4.06042782, 3.98077173, 3.57144711, 3.92001064,\n",
              "       4.23274929, 4.46338351, 4.06042782, 2.74573202, 2.12970783])"
            ]
          },
          "execution_count": 6,
          "metadata": {},
          "output_type": "execute_result"
        }
      ],
      "source": [
        "from sklearn.feature_extraction.text import TfidfVectorizer\n",
        "Tfidfvectorizer = TfidfVectorizer(max_df=0.5)\n",
        "dataset_tfidfVector = Tfidfvectorizer.fit_transform(documents)\n",
        "print(dataset_tfidfVector)\n",
        "Tfidfvectorizer.idf_\n"
      ]
    },
    {
      "cell_type": "code",
      "execution_count": null,
      "metadata": {
        "id": "9Nwq1lSDJW6d"
      },
      "outputs": [],
      "source": [
        "from sklearn.model_selection import train_test_split\n",
        "from sklearn.tree import DecisionTreeClassifier\n",
        "from sklearn.naive_bayes import MultinomialNB\n",
        "from sklearn.svm import SVC\n",
        "from sklearn.ensemble import RandomForestClassifier\n",
        "from sklearn.metrics import f1_score,recall_score,accuracy_score\n",
        "categories = dataset['class'].tolist()\n",
        "x_train, x_test, y_train, y_test = train_test_split(dataset_vector,categories,test_size = 0.30,random_state = 5432)\n",
        "x_train_tfidf, x_test_tfidf, y_train_tfidf, y_test_tfidf = train_test_split(dataset_tfidfVector,categories,test_size = 0.3, random_state = 5432)\n"
      ]
    },
    {
      "cell_type": "markdown",
      "metadata": {
        "id": "hNrmHR_ZukwH"
      },
      "source": [
        "# **SVM**"
      ]
    },
    {
      "cell_type": "code",
      "execution_count": null,
      "metadata": {
        "colab": {
          "base_uri": "https://localhost:8080/"
        },
        "id": "vFKAMPonLSbd",
        "outputId": "90316d15-98b5-4f34-87fc-6df608d38bf2"
      },
      "outputs": [
        {
          "name": "stdout",
          "output_type": "stream",
          "text": [
            "f1 score =  0.8582493425561951\n",
            "tfidf f1 score =  0.8751063057915928\n",
            "accuracy score =  0.9254317111459969\n",
            "accuracy score tfidf =  0.9391679748822606\n",
            "recall score =  0.8593770798514908\n",
            "recall score tfidf =  0.8671271827438883\n"
          ]
        }
      ],
      "source": [
        "svm = SVC(kernel=\"linear\",random_state=44).fit(x_train, y_train)\n",
        "svm_tfidf = SVC(kernel=\"linear\",random_state=44).fit(x_train_tfidf, y_train_tfidf)\n",
        "y_pred = svm.predict(x_test)\n",
        "\n",
        "y_pred_tfidf = svm_tfidf.predict(x_test_tfidf)\n",
        "F1 = f1_score(y_test,y_pred, average=\"macro\")\n",
        "F1_tfidf = f1_score(y_test_tfidf,y_pred_tfidf, average=\"macro\")\n",
        "print(\"f1 score = \", F1)\n",
        "print(\"tfidf f1 score = \", F1_tfidf)\n",
        "accuracy = accuracy_score(y_test, y_pred)\n",
        "accuracy_tfidf = accuracy_score(y_test_tfidf, y_pred_tfidf)\n",
        "print(\"accuracy score = \", accuracy)\n",
        "print(\"accuracy score tfidf = \", accuracy_tfidf)\n",
        "recall = recall_score(y_test, y_pred, average=\"macro\")\n",
        "recall_tfidf = recall_score(y_test_tfidf, y_pred_tfidf, average=\"macro\")\n",
        "print(\"recall score = \", recall)\n",
        "print(\"recall score tfidf = \", recall_tfidf)\n",
        "\n",
        "\n"
      ]
    },
    {
      "cell_type": "code",
      "execution_count": null,
      "metadata": {
        "colab": {
          "base_uri": "https://localhost:8080/"
        },
        "id": "P58I665DG9Fc",
        "outputId": "876f0c0d-a1b5-427e-c39c-a400f7ac377d"
      },
      "outputs": [
        {
          "name": "stdout",
          "output_type": "stream",
          "text": [
            "True label: 13 Predicted label: 13\n",
            "True label: 2 Predicted label: 1\n",
            "True label: 13 Predicted label: 13\n",
            "True label: 2 Predicted label: 13\n",
            "True label: 13 Predicted label: 13\n",
            "True label: 8 Predicted label: 8\n",
            "True label: 13 Predicted label: 13\n",
            "True label: 10 Predicted label: 10\n",
            "True label: 13 Predicted label: 13\n",
            "True label: 13 Predicted label: 13\n",
            "True label: 13 Predicted label: 13\n",
            "True label: 13 Predicted label: 13\n",
            "True label: 8 Predicted label: 8\n",
            "True label: 8 Predicted label: 8\n",
            "True label: 13 Predicted label: 13\n",
            "True label: 13 Predicted label: 13\n",
            "True label: 8 Predicted label: 8\n",
            "True label: 13 Predicted label: 13\n",
            "True label: 3 Predicted label: 2\n",
            "True label: 2 Predicted label: 2\n"
          ]
        }
      ],
      "source": [
        "for i in range(20):\n",
        "  print(\"True label:\",y_test[i], \"Predicted label:\",y_pred[i])"
      ]
    },
    {
      "cell_type": "markdown",
      "metadata": {
        "id": "R061iYv0vHHf"
      },
      "source": [
        "## **NB**"
      ]
    },
    {
      "cell_type": "code",
      "execution_count": null,
      "metadata": {
        "colab": {
          "base_uri": "https://localhost:8080/"
        },
        "id": "kKjRH0D6TAVF",
        "outputId": "e134b7f3-3ef8-4850-a252-a7aacd959f88"
      },
      "outputs": [
        {
          "name": "stdout",
          "output_type": "stream",
          "text": [
            "f1 score =  0.8394693837475269\n",
            "tfidf f1 score =  0.8385225438943221\n",
            "accuracy score =  0.9069858712715856\n",
            "accuracy score tfidf =  0.9105180533751962\n",
            "recall score =  0.8533625251301078\n",
            "recall score tfidf =  0.8339116177250236\n"
          ]
        }
      ],
      "source": [
        "NB_classifier = MultinomialNB().fit(x_train,y_train)\n",
        "NB_classifier_tfidf = MultinomialNB().fit(x_train_tfidf,y_train_tfidf)\n",
        "\n",
        "y_pred=NB_classifier.predict(x_test)\n",
        "y_pred_tfidf = NB_classifier_tfidf.predict(x_test_tfidf)\n",
        "F1 = f1_score(y_test,y_pred, average=\"macro\")\n",
        "F1_tfidf = f1_score(y_test_tfidf,y_pred_tfidf, average=\"macro\")\n",
        "print(\"f1 score = \", F1)\n",
        "print(\"tfidf f1 score = \", F1_tfidf)\n",
        "accuracy = accuracy_score(y_test, y_pred)\n",
        "accuracy_tfidf = accuracy_score(y_test_tfidf, y_pred_tfidf)\n",
        "print(\"accuracy score = \", accuracy)\n",
        "print(\"accuracy score tfidf = \", accuracy_tfidf)\n",
        "recall = recall_score(y_test, y_pred, average=\"macro\")\n",
        "recall_tfidf = recall_score(y_test_tfidf, y_pred_tfidf, average=\"macro\")\n",
        "print(\"recall score = \", recall)\n",
        "print(\"recall score tfidf = \", recall_tfidf)"
      ]
    },
    {
      "cell_type": "markdown",
      "metadata": {
        "id": "b0l2-JH_xaq9"
      },
      "source": [
        "# **Decision Tree**"
      ]
    },
    {
      "cell_type": "code",
      "execution_count": null,
      "metadata": {
        "colab": {
          "base_uri": "https://localhost:8080/"
        },
        "id": "-PFdiji-w3ws",
        "outputId": "07dc229c-7d16-440f-8769-558ab6e9e3dd"
      },
      "outputs": [
        {
          "name": "stdout",
          "output_type": "stream",
          "text": [
            "f1 score =  0.8019527509318531\n",
            "tfidf f1 score =  0.8073233136771953\n",
            "accuracy score =  0.8814756671899528\n",
            "accuracy score tfidf =  0.8893249607535322\n",
            "recall score =  0.800066610617125\n",
            "recall score tfidf =  0.8069085149990473\n"
          ]
        }
      ],
      "source": [
        "DecisionTree = DecisionTreeClassifier().fit(x_train,y_train)\n",
        "DecisionTree_tfidf = DecisionTreeClassifier().fit(x_train_tfidf,y_train_tfidf)\n",
        "\n",
        "y_pred=DecisionTree.predict(x_test)\n",
        "y_pred_tfidf = DecisionTree_tfidf.predict(x_test_tfidf)\n",
        "F1 = f1_score(y_test,y_pred, average=\"macro\")\n",
        "F1_tfidf = f1_score(y_test_tfidf,y_pred_tfidf, average=\"macro\")\n",
        "print(\"f1 score = \", F1)\n",
        "print(\"tfidf f1 score = \", F1_tfidf)\n",
        "accuracy = accuracy_score(y_test, y_pred)\n",
        "accuracy_tfidf = accuracy_score(y_test_tfidf, y_pred_tfidf)\n",
        "print(\"accuracy score = \", accuracy)\n",
        "print(\"accuracy score tfidf = \", accuracy_tfidf)\n",
        "recall = recall_score(y_test, y_pred, average=\"macro\")\n",
        "recall_tfidf = recall_score(y_test_tfidf, y_pred_tfidf, average=\"macro\")\n",
        "print(\"recall score = \", recall)\n",
        "print(\"recall score tfidf = \", recall_tfidf)"
      ]
    },
    {
      "cell_type": "markdown",
      "metadata": {
        "id": "l6dUVE-sPiYE"
      },
      "source": []
    },
    {
      "cell_type": "markdown",
      "metadata": {
        "id": "cm36bUCqxi22"
      },
      "source": [
        "# **Random Forest**"
      ]
    },
    {
      "cell_type": "code",
      "execution_count": null,
      "metadata": {
        "colab": {
          "base_uri": "https://localhost:8080/"
        },
        "id": "tWheNmgfw38_",
        "outputId": "6822bad1-38ae-47a1-c64a-868717edd14a"
      },
      "outputs": [
        {
          "name": "stdout",
          "output_type": "stream",
          "text": [
            "f1 score =  0.8803728004411151\n",
            "tfidf f1 score =  0.8861591102619725\n",
            "accuracy score =  0.9336734693877551\n",
            "accuracy score tfidf =  0.9360282574568289\n",
            "recall score =  0.8695211158017538\n",
            "recall score tfidf =  0.8758342745533225\n"
          ]
        }
      ],
      "source": [
        "RandomForest = RandomForestClassifier().fit(x_train,y_train)\n",
        "RandomForest_tfidf = RandomForestClassifier().fit(x_train_tfidf,y_train_tfidf)\n",
        "\n",
        "y_pred=RandomForest.predict(x_test)\n",
        "y_pred_tfidf = RandomForest_tfidf.predict(x_test_tfidf)\n",
        "F1 = f1_score(y_test,y_pred, average=\"macro\")\n",
        "F1_tfidf = f1_score(y_test_tfidf,y_pred_tfidf, average=\"macro\")\n",
        "print(\"f1 score = \", F1)\n",
        "print(\"tfidf f1 score = \", F1_tfidf)\n",
        "accuracy = accuracy_score(y_test, y_pred)\n",
        "accuracy_tfidf = accuracy_score(y_test_tfidf, y_pred_tfidf)\n",
        "print(\"accuracy score = \", accuracy)\n",
        "print(\"accuracy score tfidf = \", accuracy_tfidf)\n",
        "recall = recall_score(y_test, y_pred, average=\"macro\")\n",
        "recall_tfidf = recall_score(y_test_tfidf, y_pred_tfidf, average=\"macro\")\n",
        "print(\"recall score = \", recall)\n",
        "print(\"recall score tfidf = \", recall_tfidf)"
      ]
    },
    {
      "cell_type": "markdown",
      "metadata": {
        "id": "h8IZMaLrVmOe"
      },
      "source": [
        "## ANT COLONY"
      ]
    },
    {
      "cell_type": "code",
      "execution_count": null,
      "metadata": {
        "id": "d8zNSUmoVqw1"
      },
      "outputs": [],
      "source": [
        "features = pd.DataFrame(dataset_vector.toarray(),columns=vectorizer.get_feature_names_out())\n",
        "features = features.to_numpy()\n",
        "features = features.transpose()\n"
      ]
    },
    {
      "cell_type": "code",
      "execution_count": null,
      "metadata": {
        "colab": {
          "base_uri": "https://localhost:8080/"
        },
        "id": "q1HWjAfDoBrp",
        "outputId": "e586ade3-3d1a-48e0-b8fd-57d888daa199"
      },
      "outputs": [
        {
          "name": "stdout",
          "output_type": "stream",
          "text": [
            "[0.0403957131079967, 0.10022376634083147, 0.08620892709928159, 0.08491343775762572, 0.06995642444941703, 0.10670121304911083, 0.15852078671534567, 0.04899305146625839, 0.04098457189965846, 0.060181368507831824, 0.13437757625721353, 0.04475326816629372, 0.06677658697444352, 0.07902484984100813, 0.13060887999057827, 0.03556707101637027, 0.04545989871628783, 0.04757979036627017, 0.028147450241432104, 0.14803910022376635, 0.07996702390766694, 0.06936756565775527, 0.10740784359910494, 0.04899305146625839, 0.07537392533270522, 0.05499941114120834, 0.052408432457896593, 0.08138028500765516, 0.29030738428924746, 0.05170180190790249, 0.06701213049110823, 0.04675538805794371, 0.02167000353315275, 0.27829466493934757, 0.048050877399599574, 0.07242963137439642, 0.05464609586621128, 0.05676598751619362, 0.03556707101637027, 0.3464845130137793, 0.18843481333176304, 0.03544929925803792, 0.06854316334942881, 0.05452832410787893, 0.05653044399952891, 0.040631256624661403, 0.04934636674125545, 0.041337887174655516, 0.06960310917441997, 0.08562006830761983, 0.0891532210575904, 0.42221175362148156, 0.04074902838299376, 0.05452832410787893, 0.060299140266164175, 0.06477446708279355, 0.03780473442468496, 0.13461311977387821, 0.05170180190790249, 0.09209751501589919, 0.1261335531739489, 0.058414792132846546, 0.04687315981627606, 0.048521964432928985, 0.06630549994111412, 0.06088799905782594, 0.09763278765751973, 0.08503120951595808, 0.057825933341184785, 0.06642327169944648, 0.043575550582970204, 0.08138028500765516, 0.0340360381580497, 0.04216228948298198, 0.07384289247438464, 0.06924979389942292, 0.028147450241432104, 0.13060887999057827, 0.03450712519137911, 0.07019196796608174, 0.08220468731598163, 0.041691202449652576, 0.3471911435637734, 0.15781415616535155, 0.04239783299964668, 0.10151925568248733, 0.08997762336591686, 0.09610175479919915, 0.08161582852431987, 0.07772936049935225, 0.060299140266164175, 0.04239783299964668, 0.04545989871628783, 0.028854080791426217, 0.04828642091626428, 0.14803910022376635, 0.04934636674125545, 0.05158403014957013, 0.1708868213402426, 0.05464609586621128, 0.08797550347426687, 0.05806147685784949, 0.13425980449888117, 0.04498881168295843, 0.12578023789895182, 0.02119891649982334, 0.14356377340713697, 0.12330703097397244, 0.053468378282887766, 0.04463549640796137, 0.043104463549640794, 0.4951124720292074, 0.03827582145801437, 0.10034153809916382, 0.04522435519962313, 0.08479566599929336, 0.04298669179130844, 0.32917206453892356, 0.12966670592391943, 0.10140148392415499, 0.2073960664232717, 0.09539512424920504, 0.07242963137439642, 0.093039689082558, 0.15828524319868095, 0.03827582145801437, 0.047933105641267224, 0.07643387115769638, 0.052997291249558355, 0.11176539865740195, 0.27511482746437405, 0.11765398657401956, 0.06571664114945236, 0.09209751501589919, 0.036744788599693795, 0.05711930279119067, 0.1180073018490166, 0.08161582852431987, 0.06336120598280533, 0.043811094099634906, 0.13755741373218702, 0.03262277705806148, 0.073960664232717, 0.053468378282887766, 0.23978329996466846, 0.08467789424096102, 0.06630549994111412, 0.0898598516075845, 0.12118713932399011, 0.04828642091626428, 0.10163702744081969, 0.04746201860793782, 0.09433517842421388, 0.1633494288069721, 0.07855376280767871, 0.18443057354846307, 0.08067365445766106, 0.07478506654104346, 0.09798610293251678, 0.04981745377458485, 0.09327523259922271, 0.2626310210811447, 0.08397126369096691, 0.2765280885643623, 0.07961370863266988, 0.08679778589094335, 0.038746908491343775, 0.036862560358026146, 0.048521964432928985, 0.06159462960782004, 0.0714874573077376, 0.055588269932870096, 0.036627016841361444, 0.15757861264868683, 0.062301260157814155, 0.06818984807443175, 0.08620892709928159, 0.04239783299964668, 0.07266517489106113, 0.08879990578259334, 0.043693322341302555, 0.07313626192439053, 0.09374631963255212, 0.05923919444117301, 0.08844659050759628, 0.03544929925803792, 0.09245083029089625, 0.0928041455658933, 0.14332822989047225, 0.08703332940760805, 0.043575550582970204, 0.04675538805794371, 0.050641856082911316, 0.07631609939936403, 0.05382169355788482, 0.039335767283005536, 0.031209515958073253, 0.04675538805794371, 0.17441997409021318, 0.3230479331056413]\n"
          ]
        }
      ],
      "source": [
        "value = len(features[0])\n",
        "feature_document_frequencies = []\n",
        "for i in range(len(features)):\n",
        "  documentlist = features[i]\n",
        "  occurence = [1 for v in documentlist[:value] if v>0]\n",
        "  sum = 0\n",
        "  for i in occurence:\n",
        "    sum = sum + i\n",
        "  sum = sum / value\n",
        "  feature_document_frequencies.append(sum)\n",
        "print(feature_document_frequencies)"
      ]
    },
    {
      "cell_type": "code",
      "execution_count": null,
      "metadata": {
        "id": "Ob-cInr1Ovkm"
      },
      "outputs": [],
      "source": [
        "df_count = pd.DataFrame(dataset_tfidfVector.toarray(), columns = Tfidfvectorizer.get_feature_names_out())\n",
        "df_count=df_count.to_numpy()"
      ]
    },
    {
      "cell_type": "code",
      "execution_count": null,
      "metadata": {
        "colab": {
          "base_uri": "https://localhost:8080/"
        },
        "id": "hUyrkcKQ8GjG",
        "outputId": "c2b78fc7-9dc7-446d-f868-f528d39ecf5b"
      },
      "outputs": [
        {
          "name": "stdout",
          "output_type": "stream",
          "text": [
            "108.07781910896301 seconds.\n"
          ]
        }
      ],
      "source": [
        "import time\n",
        "start = time.time()\n",
        "epoch = 50 #iteration number\n",
        "ant = 100# number of ants\n",
        "feature_count = 100 # number of features to select\n",
        "feature_list = []\n",
        "ant_dictionary = dict()\n",
        "initial_pheromone = 1.0 # initial pheromone value for choice formula\n",
        "pheromone_exponent = 1.0 # alpha\n",
        "pheromone_evaporation_value = 0.2 #evaporation value\n",
        "heuristic_exponent = 1.0 # beta\n",
        "initial_pheromone_value = 1.0 # initial tau\n",
        "feature_pheromone_list = np.full(len(feature_document_frequencies), initial_pheromone_value)# feature pheremone table\n",
        "feature_count_selection_counter = 0\n",
        "for i in range(epoch):\n",
        "\n",
        "\n",
        "  for ant in range(ant):\n",
        "\n",
        "    unvisited_features = np.arange(len(feature_document_frequencies),dtype = np.float64)\n",
        "\n",
        "    feature_count_selection_counter = 0\n",
        "    while feature_count_selection_counter < feature_count: ## feature selection part\n",
        "\n",
        "      probs = np.arange(len(unvisited_features),dtype = np.float64)\n",
        "      probs_dupe = np.arange(len(unvisited_features),dtype = np.float64)\n",
        "\n",
        "      for unvisited_feature in range(len(unvisited_features)):    ## calculating the selection probabilities of each feature\n",
        "        heuristic_value = feature_document_frequencies[unvisited_feature]\n",
        "        pheremone_intensity = feature_pheromone_list[unvisited_feature]\n",
        "        np.put(probs_dupe,unvisited_feature,np.float64((pheremone_intensity) ** np.float64(pheromone_exponent)) * (np.float64(heuristic_value) ** np.float64(heuristic_exponent))) ## State transition rule\n",
        "      sum = np.sum(probs_dupe,dtype = np.float64)\n",
        "      feature_count_selection_counter += 1\n",
        "\n",
        "      for unvisited_feature in range(len(unvisited_features)):  # dividing each feature's selection probability to sum of all features probabilites\n",
        "        probs[unvisited_feature] = probs_dupe[unvisited_feature] / sum\n",
        "\n",
        "      next_feature = np.random.choice(unvisited_features,1,p = probs)[0]  ## selecting next feature stochastically\n",
        "      feature_list.append(next_feature)   ## appending feature to the ant's path\n",
        "      unvisited_features=np.delete(unvisited_features,np.where(unvisited_features == int(next_feature))) # deleting selected feature from the unvisited features list\n",
        "      # after building subset is complete train the classifier using selected subset\n",
        "    new_features_list = np.array(feature_list).astype(int)\n",
        "    new_subset = np.array(df_count[:,new_features_list])\n",
        "    x_train, x_test, y_train, y_test = train_test_split(new_subset,categories,test_size=0.3,random_state = 5432)\n",
        "    svm = SVC(kernel=\"linear\",random_state=44).fit(x_train, y_train)\n",
        "    svm_pred = svm.predict(x_test)\n",
        "    F1 = f1_score(y_test,svm_pred, average=\"macro\")\n",
        "    accuracy = accuracy_score(y_test, svm_pred)\n",
        "    recall = recall_score(y_test, svm_pred, average=\"macro\")\n",
        "    ant_dictionary[ant] = {\"antPath\":feature_list, \"Ant_Prediction_Score\": {\"f1\":F1,\"accuracy\":accuracy,\"recall\":recall}} # store each ant's(subset) path and f1 measures in dictionary\n",
        "    feature_list = []\n",
        "\n",
        "  ##Evaporation calculation for each feature after each iteration\n",
        "  for index in range(len(feature_pheromone_list)):\n",
        "    feature = feature_pheromone_list[index] * pheromone_evaporation_value\n",
        "    feature_pheromone_list[index] = float(feature)\n",
        "\n",
        "\n",
        "  ##Pheremone update for each feature after each iteration\n",
        "  for ant in ant_dictionary:\n",
        "\n",
        "    for feature in ant_dictionary[ant][\"antPath\"]:\n",
        "      ant_f1 = ant_dictionary[ant][\"Ant_Prediction_Score\"][\"f1\"]\n",
        "      original_pheromone_value = feature_pheromone_list[int(feature)]\n",
        "      pheromone_updated_Value = ant_f1 * 10 #deltatk\n",
        "      feature_pheromone_list[int(feature)] += pheromone_updated_Value\n",
        "end = time.time()\n",
        "elapsed_time = end - start\n",
        "print(elapsed_time , \"seconds.\")\n",
        "\n",
        "\n",
        "  #next_feature = np.random.multinomial(unvisited_features,unvisited_features)\n"
      ]
    },
    {
      "cell_type": "markdown",
      "metadata": {
        "id": "3pCOG2o3N_s5"
      },
      "source": [
        "# Print the last iteration"
      ]
    },
    {
      "cell_type": "code",
      "execution_count": null,
      "metadata": {
        "id": "mXpCZnM-5SX6"
      },
      "outputs": [],
      "source": [
        "scores = []"
      ]
    },
    {
      "cell_type": "code",
      "execution_count": null,
      "metadata": {
        "colab": {
          "base_uri": "https://localhost:8080/"
        },
        "id": "zoaf5617bsFP",
        "outputId": "09e046d1-cb76-4158-b479-450ce8e0a639"
      },
      "outputs": [
        {
          "name": "stdout",
          "output_type": "stream",
          "text": [
            "{'f1': 0.693638893693513, 'accuracy': 0.869309262166405, 'recall': 0.6952471196752514}\n",
            "[14.0, 162.0, 23.0, 9.0, 104.0, 115.0, 145.0, 168.0, 156.0, 134.0, 178.0, 89.0, 71.0, 50.0, 49.0, 94.0, 62.0, 118.0, 54.0, 132.0, 111.0, 21.0, 69.0, 185.0, 43.0, 68.0, 144.0, 22.0, 38.0, 57.0, 157.0, 95.0, 109.0, 191.0, 136.0, 159.0, 155.0, 160.0, 100.0, 152.0, 25.0, 102.0, 187.0, 26.0, 186.0, 141.0, 122.0, 143.0, 11.0, 51.0, 129.0, 29.0, 82.0, 47.0, 116.0, 181.0, 3.0, 18.0, 2.0, 139.0, 124.0, 81.0, 126.0, 59.0, 15.0, 153.0, 52.0, 63.0, 55.0, 33.0, 12.0, 142.0, 85.0, 135.0, 128.0, 173.0, 44.0, 167.0, 93.0, 7.0, 140.0, 179.0, 108.0, 53.0, 149.0, 77.0, 97.0, 86.0, 41.0, 87.0, 36.0, 98.0, 13.0, 76.0, 83.0, 113.0, 170.0, 146.0, 127.0, 58.0]\n",
            "{'f1': 0.619709455086537, 'accuracy': 0.8453689167974883, 'recall': 0.6087441152157083}\n",
            "[13.0, 122.0, 53.0, 62.0, 167.0, 178.0, 70.0, 162.0, 174.0, 140.0, 16.0, 123.0, 85.0, 129.0, 30.0, 93.0, 95.0, 120.0, 61.0, 24.0, 184.0, 175.0, 176.0, 6.0, 23.0, 25.0, 189.0, 156.0, 108.0, 49.0, 5.0, 152.0, 153.0, 191.0, 161.0, 172.0, 138.0, 43.0, 104.0, 194.0, 100.0, 107.0, 151.0, 106.0, 171.0, 109.0, 20.0, 141.0, 44.0, 17.0, 144.0, 173.0, 84.0, 105.0, 57.0, 117.0, 28.0, 185.0, 150.0, 186.0, 64.0, 168.0, 160.0, 197.0, 165.0, 113.0, 71.0, 75.0, 19.0, 192.0, 47.0, 40.0, 121.0, 181.0, 183.0, 124.0, 8.0, 166.0, 163.0, 102.0, 182.0, 7.0, 74.0, 39.0, 63.0, 115.0, 65.0, 139.0, 89.0, 101.0, 190.0, 66.0, 83.0, 195.0, 193.0, 86.0, 198.0, 22.0, 48.0, 34.0]\n",
            "{'f1': 0.7655649870626193, 'accuracy': 0.8885400313971743, 'recall': 0.7486176204011092}\n",
            "[120.0, 82.0, 98.0, 152.0, 102.0, 144.0, 121.0, 10.0, 173.0, 23.0, 129.0, 62.0, 115.0, 118.0, 141.0, 46.0, 130.0, 131.0, 122.0, 51.0, 183.0, 1.0, 116.0, 136.0, 167.0, 47.0, 58.0, 180.0, 155.0, 194.0, 160.0, 95.0, 184.0, 99.0, 5.0, 165.0, 178.0, 22.0, 134.0, 7.0, 12.0, 19.0, 106.0, 174.0, 126.0, 49.0, 65.0, 190.0, 72.0, 133.0, 66.0, 179.0, 158.0, 88.0, 142.0, 107.0, 17.0, 109.0, 139.0, 157.0, 196.0, 84.0, 171.0, 169.0, 86.0, 197.0, 75.0, 192.0, 45.0, 100.0, 69.0, 148.0, 154.0, 4.0, 56.0, 123.0, 81.0, 125.0, 127.0, 112.0, 50.0, 110.0, 3.0, 44.0, 32.0, 193.0, 30.0, 198.0, 2.0, 185.0, 199.0, 36.0, 186.0, 83.0, 89.0, 103.0, 117.0, 137.0, 64.0, 14.0]\n",
            "{'f1': 0.6519519986492196, 'accuracy': 0.8394819466248038, 'recall': 0.6367515133972131}\n",
            "[20.0, 19.0, 41.0, 67.0, 162.0, 52.0, 6.0, 192.0, 185.0, 108.0, 118.0, 152.0, 189.0, 173.0, 71.0, 23.0, 50.0, 27.0, 142.0, 197.0, 194.0, 182.0, 155.0, 7.0, 193.0, 179.0, 47.0, 172.0, 58.0, 2.0, 120.0, 82.0, 40.0, 150.0, 49.0, 128.0, 17.0, 94.0, 175.0, 102.0, 143.0, 104.0, 66.0, 161.0, 83.0, 68.0, 184.0, 149.0, 107.0, 9.0, 127.0, 90.0, 54.0, 85.0, 132.0, 148.0, 181.0, 55.0, 190.0, 56.0, 91.0, 5.0, 51.0, 169.0, 188.0, 76.0, 113.0, 53.0, 38.0, 139.0, 129.0, 166.0, 122.0, 86.0, 126.0, 48.0, 89.0, 42.0, 44.0, 101.0, 165.0, 84.0, 62.0, 115.0, 21.0, 183.0, 134.0, 43.0, 199.0, 75.0, 195.0, 88.0, 147.0, 100.0, 64.0, 73.0, 59.0, 96.0, 198.0, 157.0]\n",
            "{'f1': 0.7966000842990406, 'accuracy': 0.8952119309262166, 'recall': 0.7719024605046226}\n",
            "[84.0, 132.0, 125.0, 112.0, 60.0, 1.0, 193.0, 34.0, 168.0, 186.0, 6.0, 30.0, 187.0, 108.0, 172.0, 59.0, 52.0, 121.0, 113.0, 141.0, 196.0, 145.0, 96.0, 7.0, 57.0, 36.0, 138.0, 94.0, 87.0, 29.0, 67.0, 33.0, 2.0, 184.0, 63.0, 127.0, 120.0, 149.0, 80.0, 180.0, 179.0, 178.0, 148.0, 75.0, 107.0, 157.0, 192.0, 50.0, 161.0, 199.0, 169.0, 163.0, 151.0, 128.0, 38.0, 72.0, 26.0, 69.0, 82.0, 164.0, 99.0, 131.0, 152.0, 85.0, 23.0, 117.0, 97.0, 39.0, 198.0, 109.0, 22.0, 147.0, 197.0, 183.0, 181.0, 135.0, 123.0, 159.0, 9.0, 176.0, 89.0, 19.0, 185.0, 16.0, 177.0, 70.0, 191.0, 73.0, 53.0, 81.0, 56.0, 144.0, 13.0, 46.0, 140.0, 101.0, 68.0, 66.0, 64.0, 114.0]\n",
            "{'f1': 0.7441857397913157, 'accuracy': 0.8861852433281004, 'recall': 0.7303362861968943}\n",
            "[108.0, 164.0, 19.0, 113.0, 167.0, 181.0, 40.0, 89.0, 103.0, 26.0, 79.0, 119.0, 126.0, 35.0, 187.0, 131.0, 169.0, 70.0, 149.0, 55.0, 134.0, 74.0, 123.0, 62.0, 13.0, 128.0, 44.0, 188.0, 191.0, 192.0, 101.0, 95.0, 171.0, 92.0, 31.0, 59.0, 24.0, 152.0, 6.0, 139.0, 76.0, 141.0, 150.0, 158.0, 165.0, 105.0, 14.0, 174.0, 172.0, 173.0, 166.0, 17.0, 145.0, 197.0, 146.0, 82.0, 111.0, 51.0, 182.0, 129.0, 69.0, 90.0, 67.0, 52.0, 170.0, 178.0, 175.0, 177.0, 49.0, 48.0, 1.0, 168.0, 96.0, 73.0, 36.0, 22.0, 58.0, 104.0, 106.0, 39.0, 54.0, 133.0, 80.0, 4.0, 143.0, 29.0, 81.0, 190.0, 25.0, 5.0, 47.0, 7.0, 185.0, 147.0, 72.0, 21.0, 98.0, 199.0, 125.0, 28.0]\n",
            "{'f1': 0.7614022085106955, 'accuracy': 0.8622448979591837, 'recall': 0.734978295901477}\n",
            "[60.0, 124.0, 9.0, 35.0, 146.0, 89.0, 65.0, 36.0, 179.0, 158.0, 52.0, 90.0, 119.0, 47.0, 56.0, 113.0, 110.0, 134.0, 76.0, 111.0, 174.0, 23.0, 5.0, 161.0, 82.0, 135.0, 130.0, 132.0, 55.0, 192.0, 162.0, 199.0, 15.0, 99.0, 157.0, 156.0, 193.0, 40.0, 165.0, 188.0, 66.0, 58.0, 122.0, 75.0, 144.0, 125.0, 104.0, 183.0, 173.0, 34.0, 153.0, 128.0, 185.0, 43.0, 26.0, 117.0, 73.0, 61.0, 169.0, 182.0, 98.0, 191.0, 17.0, 198.0, 11.0, 4.0, 72.0, 133.0, 38.0, 197.0, 78.0, 57.0, 142.0, 22.0, 159.0, 14.0, 32.0, 93.0, 190.0, 194.0, 96.0, 70.0, 175.0, 74.0, 69.0, 87.0, 92.0, 184.0, 16.0, 45.0, 13.0, 108.0, 71.0, 77.0, 41.0, 152.0, 79.0, 97.0, 50.0, 18.0]\n",
            "{'f1': 0.7027267641819637, 'accuracy': 0.8579277864992151, 'recall': 0.6859009924549148}\n",
            "[113.0, 22.0, 34.0, 85.0, 42.0, 149.0, 116.0, 168.0, 88.0, 94.0, 190.0, 128.0, 163.0, 59.0, 191.0, 134.0, 120.0, 178.0, 49.0, 84.0, 37.0, 183.0, 198.0, 20.0, 159.0, 105.0, 57.0, 162.0, 50.0, 99.0, 158.0, 187.0, 87.0, 154.0, 30.0, 109.0, 199.0, 2.0, 29.0, 63.0, 131.0, 138.0, 64.0, 194.0, 45.0, 48.0, 10.0, 35.0, 69.0, 76.0, 125.0, 157.0, 193.0, 43.0, 148.0, 175.0, 3.0, 36.0, 90.0, 172.0, 108.0, 176.0, 167.0, 58.0, 80.0, 152.0, 97.0, 177.0, 197.0, 150.0, 122.0, 74.0, 9.0, 51.0, 62.0, 173.0, 133.0, 28.0, 139.0, 196.0, 192.0, 129.0, 89.0, 180.0, 82.0, 65.0, 83.0, 1.0, 181.0, 102.0, 67.0, 136.0, 4.0, 31.0, 151.0, 153.0, 188.0, 70.0, 96.0, 19.0]\n",
            "{'f1': 0.7964744226841494, 'accuracy': 0.8924646781789639, 'recall': 0.7801093923979028}\n",
            "[53.0, 48.0, 86.0, 59.0, 37.0, 198.0, 84.0, 54.0, 189.0, 137.0, 110.0, 139.0, 29.0, 133.0, 188.0, 129.0, 166.0, 143.0, 95.0, 125.0, 12.0, 147.0, 122.0, 4.0, 150.0, 31.0, 1.0, 63.0, 33.0, 35.0, 34.0, 74.0, 157.0, 60.0, 153.0, 2.0, 40.0, 199.0, 173.0, 109.0, 184.0, 81.0, 197.0, 119.0, 165.0, 38.0, 76.0, 39.0, 70.0, 138.0, 26.0, 7.0, 176.0, 66.0, 87.0, 90.0, 146.0, 24.0, 19.0, 196.0, 168.0, 123.0, 93.0, 78.0, 128.0, 117.0, 79.0, 193.0, 88.0, 131.0, 115.0, 92.0, 62.0, 163.0, 82.0, 61.0, 112.0, 73.0, 20.0, 15.0, 145.0, 67.0, 41.0, 187.0, 72.0, 186.0, 102.0, 75.0, 182.0, 56.0, 172.0, 22.0, 43.0, 100.0, 69.0, 83.0, 18.0, 194.0, 126.0, 104.0]\n",
            "{'f1': 0.7679983690829917, 'accuracy': 0.8724489795918368, 'recall': 0.7389576240008503}\n",
            "[1.0, 169.0, 118.0, 105.0, 177.0, 81.0, 103.0, 29.0, 168.0, 150.0, 112.0, 184.0, 111.0, 41.0, 14.0, 22.0, 35.0, 108.0, 94.0, 45.0, 88.0, 180.0, 133.0, 178.0, 144.0, 84.0, 92.0, 125.0, 101.0, 165.0, 87.0, 162.0, 59.0, 185.0, 6.0, 157.0, 25.0, 193.0, 34.0, 68.0, 102.0, 0.0, 140.0, 130.0, 166.0, 136.0, 46.0, 62.0, 131.0, 13.0, 52.0, 156.0, 135.0, 19.0, 146.0, 153.0, 85.0, 9.0, 171.0, 159.0, 32.0, 49.0, 175.0, 42.0, 79.0, 195.0, 143.0, 95.0, 21.0, 60.0, 158.0, 44.0, 20.0, 15.0, 194.0, 172.0, 4.0, 176.0, 51.0, 39.0, 11.0, 93.0, 56.0, 37.0, 75.0, 197.0, 155.0, 104.0, 142.0, 114.0, 91.0, 57.0, 8.0, 120.0, 27.0, 3.0, 77.0, 196.0, 199.0, 127.0]\n",
            "0.7966000842990406\n"
          ]
        }
      ],
      "source": [
        "best = 0\n",
        "for i in ant_dictionary: ## print the last subset\n",
        "  if(ant_dictionary[i]['Ant_Prediction_Score']['f1']) > best:\n",
        "    best = ant_dictionary[i]['Ant_Prediction_Score']['f1']\n",
        "  print(ant_dictionary[i]['Ant_Prediction_Score'])\n",
        "  print(ant_dictionary[i]['antPath'])\n",
        "print(best)\n"
      ]
    },
    {
      "cell_type": "code",
      "execution_count": null,
      "metadata": {
        "id": "tRdOzi1obPkq"
      },
      "outputs": [],
      "source": [
        "\n"
      ]
    }
  ],
  "metadata": {
    "accelerator": "GPU",
    "colab": {
      "provenance": [],
      "include_colab_link": true
    },
    "gpuClass": "standard",
    "kernelspec": {
      "display_name": "Python 3",
      "name": "python3"
    },
    "language_info": {
      "name": "python"
    }
  },
  "nbformat": 4,
  "nbformat_minor": 0
}